{
 "cells": [
  {
   "cell_type": "markdown",
   "id": "funny-semiconductor",
   "metadata": {},
   "source": [
    "# Basics of Python, Qiskit and CS Jargon\n",
    "##### Nitya D"
   ]
  },
  {
   "cell_type": "markdown",
   "id": "designing-interim",
   "metadata": {},
   "source": [
    "## Some brief definitions at a high level\n",
    "\n",
    "### Bit: \n",
    "Represents classical data and can be 0 or 1\n",
    "\n",
    "### Qubit: \n",
    "Represents quantum data as a normalised unit vector in a Hilbert Space\n",
    "\n",
    "### Qiskit Terra: \n",
    "This is the one we've been using to build circuits, write quantum code and execute it.\n",
    "\n",
    "### Qiskit Aer: \n",
    "This is what we've been using to simulate our circuits (statevector sim, qasm sim etc.)\n",
    "\n",
    "More info on Aer, Terra and other elements here: https://qiskit.org/documentation/the_elements.html\n",
    "\n",
    "### Byte: \n",
    "8 bits is referred to as a byte.\n",
    "\n",
    "### Logic gates: \n",
    "Building blocks of classical and quantum software. Physically, it's just a circuit with one or more inputs and one output. Examples include AND, OR, NOT, XOR, Pauli X/Y/Z, Hadamard, CNOT etc. \n",
    "\n",
    "### Libraries:\n",
    "Code that has already been written and achieves specific tasks e.g. generating random numbers, doing matrix maths, quantum programming etc. E.g. Qiskit, Numpy, Random, Math, etc. These aren't part of python by default so use the keyword `import` to use them.\n",
    "\n",
    "### Protocols:\n",
    "Fancy name for a set of rules in computing. Examples: Internet Protocol, Transmission Control Protocol, BB84, Superdense Coding Protocol etc.\n",
    "\n",
    "### Algorithms:\n",
    "A step by step approach to solve any problem, whether that's cooking a meal or finding your name from a massive list of students.\n",
    "There are different types of algorithms if you're interested: searching algorithms, sorting algorithms, path finding algorithms, optimization and recommendation algorithms etc. You will have used at least one of these in the past!\n",
    "\n",
    "### Efficiency and Big O:\n",
    "Big O is a mathematical way to represent how much time or how much space an algorithm takes as the number of inputs get very large (i.e. tend to infinity)\n",
    "Efficient algorithms are the ones with some of the smallest Big Os!\n",
    "\n",
    "### Encryption:\n",
    "Converting your readable message- aka plaintext to an unreadable form- aka ciphertext\n",
    "\n",
    "### Decryption:\n",
    "Converting ciphertext to plain text\n",
    "\n",
    "### Simulation:\n",
    "A computer model which predicts the outcome of a physical system.\n"
   ]
  },
  {
   "cell_type": "markdown",
   "id": "expired-manor",
   "metadata": {},
   "source": [
    "### Syntax:\n",
    "Think of this as the grammar of a language. It's a bunch of rules which you need to adhere to so the computer can understand you. The way code is written in different languages is its 'syntax'.\n",
    "\n",
    "### Inputs:\n",
    "Anything you define or info you give to the computer. Outputs -a result of one calculation can also be inputs for another calculation. E.g. \"num1\" and \"num2\" are input into \"prod\", see e.g. below.\n",
    "\n",
    "NOTE: if you  use the 'input' keyword, python assumes it is a string even if you entered numbers. You can change a string to an integer by using 'int' and 'str' to do the opposite.\n",
    "\n",
    "### Computation:\n",
    "This is where computers do fancy maths quickly and accurately  using gates to produce an output!\n",
    "\n",
    "### Ouputs:\n",
    "A result of a computaion/ calculation that we get after running or executing our code.\n",
    "\n",
    "### Variables:\n",
    "Just like in maths, variables store different values. \n",
    "Question: in the e.g. below, <b>what are some of the variables and what values do they store?</b>\n",
    "\n",
    "### Keywords:\n",
    "There are some reserved words that Python understands by default. You cannot use these words as variable names. In the example below, the keywords are 'input' and 'print'. They are highlighted in red.Question: <b>Can you spot other keywords in this notebook? </b>\n",
    "\n",
    "### Strings:\n",
    "Anything within quotes.<b> Can you find the three strings in the example below?</b>\n",
    "\n",
    "### Print Statements:\n",
    "You can print/ display something when you run programs."
   ]
  },
  {
   "cell_type": "code",
   "execution_count": 1,
   "id": "conservative-rocket",
   "metadata": {},
   "outputs": [
    {
     "name": "stdout",
     "output_type": "stream",
     "text": [
      "Enter your name: Nitya\n",
      "Hi,  Nitya\n",
      "\n",
      "Product =  15\n"
     ]
    }
   ],
   "source": [
    "#create a variable\n",
    "name = \n",
    "\n",
    "#display result\n",
    "print()\n",
    "\n",
    "num1 = 5\n",
    "num2 = 3\n",
    "prod = num1*num2\n",
    "print(\"\\nProduct = \", prod)"
   ]
  },
  {
   "cell_type": "markdown",
   "id": "promotional-barrel",
   "metadata": {},
   "source": [
    "\n",
    "### Conditional Statements:\n",
    "Aka \"if-else\" statements are used to run a block of code only if a particular condition is true.\n",
    "\n",
    "### Loops:\n",
    "Execute a block of code over and over again until a certain condition is met. There are two types of loops- while loops (See below) and for loops.\n"
   ]
  },
  {
   "cell_type": "code",
   "execution_count": 2,
   "id": "changed-fellow",
   "metadata": {},
   "outputs": [
    {
     "name": "stdout",
     "output_type": "stream",
     "text": [
      "Enter your age: 50\n",
      "Happy Adulting,  Nitya\n"
     ]
    }
   ],
   "source": [
    "age = int(input(\"Enter your age: \"))\n",
    "while age < 0 or age > 120:\n",
    "    age = int(input(\"Enter your age:\"))\n",
    "    \n",
    "if age < 13:\n",
    "    print(name, \" is a child.\")\n",
    "elif age > 20:\n",
    "    print(\"Happy Adulting, \",name)\n",
    "else:\n",
    "    print(name,\" is a teen.\")"
   ]
  },
  {
   "cell_type": "markdown",
   "id": "entitled-institution",
   "metadata": {},
   "source": [
    "### Practice:\n",
    "1. Ask the user what day of the week it is\n",
    "2. If it’s Monday, print “Happy Monday”\n",
    "3. If it’s Friday, print “It’s almost the weekend”\n",
    "4. If it’s Saturday/Sunday, print “It’s the weekend!!!”\n",
    "5. If the input is invalid, keep asking for an input until an acceptable answer is entered.\n"
   ]
  },
  {
   "cell_type": "code",
   "execution_count": 3,
   "id": "latest-great",
   "metadata": {},
   "outputs": [],
   "source": [
    "#Your Solution\n",
    "#days = [\"M\",\"T\",\"W\",\"Th\",\"F\",\"Sat\",\"Sun\"]"
   ]
  },
  {
   "cell_type": "markdown",
   "id": "personal-exception",
   "metadata": {},
   "source": [
    "### Lists:\n",
    "Think of lists as grocery lists (although they can be anything) as a way to store many things in one variable. In python, lists are defined using a pair of square brackets. \n",
    "\n",
    "### Indices and Indexing:\n",
    "An index (plural: indices) points to a particular element in a list or a particular character in a string according to its position. Indices in computing always begin at 0.\n",
    "\n",
    "### For Loops:\n",
    "Useful to iterate/ go through a list or a string.\n",
    "\n",
    "### Functions:\n",
    "- They are self-contained pieces of code that achieve a <b>single specific task.</b> \n",
    "- A function can take in inputs and processes them. These inputs have a special name: <b>parameters</b>. The parameters in this example are strings or lists etc.\n",
    "-It then <b>returns</b> an output.\n",
    "\n",
    "- E.g. `len` is a python function and finds the length of your list or string. <b> In the example below, can you think what the paramter is and what the output will be for thr function `len`?</b><br>\n",
    "<b>Can you spot another function?</b>\n",
    "\n",
    "### Practice\n",
    "Ask five of your friends what they would like you to bring them from the shops and \"append\" them to your list and print out all the items.\n",
    "E.g. `myList.append(\"Pizza\")`\n"
   ]
  },
  {
   "cell_type": "code",
   "execution_count": 4,
   "id": "indoor-hamilton",
   "metadata": {},
   "outputs": [
    {
     "name": "stdout",
     "output_type": "stream",
     "text": [
      "Apples\n",
      "Apples \n",
      "\n",
      "Bananas \n",
      "\n",
      "Carrots \n",
      "\n"
     ]
    }
   ],
   "source": [
    "myList = [\"Apples\", \"Bananas\", \"Carrots\"]\n",
    "print(myList[0]) #this prints the first element as the index is 0.\n",
    "\n",
    "for i in range(len(myList)):\n",
    "    print(myList[i],'\\n')    "
   ]
  },
  {
   "cell_type": "code",
   "execution_count": 5,
   "id": "brilliant-psychiatry",
   "metadata": {},
   "outputs": [
    {
     "name": "stdout",
     "output_type": "stream",
     "text": [
      "Enter your item: Cereal\n",
      "Enter your item: Veg\n",
      "Enter your item: Chips\n",
      "Enter your item: Pizza\n",
      "Enter your item: Chocolate\n",
      "\n",
      " ['Apples', 'Bananas', 'Carrots', 'Cereal', 'Veg', 'Chips', 'Pizza', 'Chocolate']\n"
     ]
    }
   ],
   "source": [
    "#Solution:\n",
    "#myList = []\n",
    "for i in range(5):\n",
    "    item = input(\"Enter your item: \")\n",
    "    myList.append(item)\n",
    "print('\\n',myList)"
   ]
  },
  {
   "cell_type": "markdown",
   "id": "roman-killing",
   "metadata": {},
   "source": [
    "### DIY Functions\n",
    "You can also make your own functions. \n",
    "All functions need to be 'called' if they are to be used.\n",
    "If your function has parameters, you need to call the function with <b>arguments</b>- i.e. the actual values of your function inputs. In the example above, myList is the argument.\n",
    "You can use the keyword `def` to define a function\n",
    "\n",
    "#### Questions:\n",
    "1. What is the name of the function below?\n",
    "2. Does it have parameters? If so, what are they?\n",
    "3. What does the function achieve?\n",
    "4. Which line is the function call?\n",
    "5. What are the arguments?\n"
   ]
  },
  {
   "cell_type": "code",
   "execution_count": 6,
   "id": "lucky-cocktail",
   "metadata": {},
   "outputs": [
    {
     "data": {
      "text/plain": [
       "(122, -56, 2937, 0.3707865168539326)"
      ]
     },
     "execution_count": 6,
     "metadata": {},
     "output_type": "execute_result"
    }
   ],
   "source": [
    "def myCalculator(num1,num2):\n",
    "    total = num1 + num2\n",
    "    diff = num1-num2\n",
    "    prod = num1*num2\n",
    "    div = num1/num2\n",
    "    return(total, diff, prod, div)\n",
    "myNum1 = 33 #feel free to change these\n",
    "myNum2 = 89\n",
    "myCalculator(myNum1, myNum2)"
   ]
  },
  {
   "cell_type": "markdown",
   "id": "weighted-nomination",
   "metadata": {},
   "source": [
    "\n",
    "### Practice:\n",
    "Write a function which takes two numbers and returns the greater of the two."
   ]
  },
  {
   "cell_type": "code",
   "execution_count": 7,
   "id": "signal-preview",
   "metadata": {},
   "outputs": [],
   "source": [
    "#Your Solution"
   ]
  },
  {
   "cell_type": "markdown",
   "id": "heavy-disorder",
   "metadata": {},
   "source": [
    "### Qiskit\n",
    "\n",
    "Everytime you open a new Jupyter nb in the IQX, the following cell will be filled in for you- it is importing the qiskit library.\n",
    "\n",
    "`QuantumCircuit(n)` lets us create a quantum circuit as the name suggests!\n",
    "`Aer` is used for simulations:\n",
    "- Statevector simulator: gives a result based purely on maths and therefore never needs to make a measurement.\n",
    "\n",
    "- QASM simulator: simulates a QC and needs a measurement to be made. It uses classical bits.\n"
   ]
  },
  {
   "cell_type": "code",
   "execution_count": 8,
   "id": "persistent-skirt",
   "metadata": {},
   "outputs": [],
   "source": [
    "%matplotlib inline\n",
    "# Importing standard Qiskit libraries\n",
    "from qiskit import QuantumCircuit, execute, Aer, IBMQ\n",
    "from qiskit.compiler import transpile, assemble\n",
    "from qiskit.tools.jupyter import *\n",
    "from qiskit.visualization import *\n",
    "from ibm_quantum_widgets import *\n",
    "\n",
    "# Loading your IBM Q account(s)\n",
    "provider = IBMQ.load_account()"
   ]
  },
  {
   "cell_type": "code",
   "execution_count": 9,
   "id": "portuguese-washington",
   "metadata": {},
   "outputs": [
    {
     "data": {
      "image/png": "[encoded data removed]",
      "text/plain": [
       "<Figure size 206.852x144.48 with 1 Axes>"
      ]
     },
     "execution_count": 9,
     "metadata": {},
     "output_type": "execute_result"
    }
   ],
   "source": [
    "myCircuit = QuantumCircuit(2)\n",
    "myCircuit.h(0)\n",
    "myCircuit.cx(0,1)\n",
    "#uncomment if running on qasm\n",
    "#myCircuit.measure(0,0)\n",
    "myCircuit.draw('mpl')"
   ]
  },
  {
   "cell_type": "code",
   "execution_count": 10,
   "id": "textile-sleep",
   "metadata": {},
   "outputs": [
    {
     "name": "stdout",
     "output_type": "stream",
     "text": [
      "[0.70710678+0.j 0.        +0.j 0.        +0.j 0.70710678+0.j]\n"
     ]
    }
   ],
   "source": [
    "backend = Aer.get_backend('statevector_simulator')\n",
    "job = execute(myCircuit,backend)\n",
    "result = job.result()\n",
    "state = result.get_statevector(myCircuit)\n",
    "print(state)"
   ]
  },
  {
   "cell_type": "code",
   "execution_count": 11,
   "id": "arctic-circulation",
   "metadata": {},
   "outputs": [
    {
     "data": {
      "image/png": "[encoded data removed]",
      "text/plain": [
       "<Figure size 504x360 with 1 Axes>"
      ]
     },
     "execution_count": 11,
     "metadata": {},
     "output_type": "execute_result"
    }
   ],
   "source": [
    "counts = result.get_counts(myCircuit)\n",
    "plot_histogram(counts)"
   ]
  },
  {
   "cell_type": "markdown",
   "id": "attended-refrigerator",
   "metadata": {},
   "source": [
    "### Helpful Resources for Python Practice \n",
    "Hopefully they're a bit of fun too.\n",
    "\n",
    "1. https://www.codingame.com/ \n",
    "2. https://projecteuler.net/about\n",
    "3. https://www.edureka.co/blog/python-projects/#z4\n",
    "4. https://www.codewars.com/collections/basic-python\n",
    "5. https://www.codecademy.com/learn/learn-python-3\n"
   ]
  },
  {
   "cell_type": "code",
   "execution_count": null,
   "id": "hairy-honduras",
   "metadata": {},
   "outputs": [],
   "source": []
  }
 ],
 "metadata": {
  "kernelspec": {
   "display_name": "Python 3",
   "language": "python",
   "name": "python3"
  },
  "language_info": {
   "codemirror_mode": {
    "name": "ipython",
    "version": 3
   },
   "file_extension": ".py",
   "mimetype": "text/x-python",
   "name": "python",
   "nbconvert_exporter": "python",
   "pygments_lexer": "ipython3",
   "version": "3.8.8"
  }
 },
 "nbformat": 4,
 "nbformat_minor": 5
}
